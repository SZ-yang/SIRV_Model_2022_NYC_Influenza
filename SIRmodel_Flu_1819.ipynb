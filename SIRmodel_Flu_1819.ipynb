{
 "cells": [
  {
   "cell_type": "code",
   "execution_count": 1,
   "metadata": {},
   "outputs": [],
   "source": [
    "import numpy as np\n",
    "from scipy.integrate import odeint\n",
    "import matplotlib.pyplot as plt\n",
    "import pandas as pd\n",
    "from scipy.optimize import minimize\n",
    "from scipy.optimize import least_squares\n",
    "from scipy.optimize import curve_fit"
   ]
  },
  {
   "cell_type": "markdown",
   "metadata": {},
   "source": [
    "#### FLu Data Importing and Munging\n",
    "[Influenza Laboratory-Confirmed Cases](https://health.data.ny.gov/Health/Influenza-Laboratory-Confirmed-Cases-By-County-Beg/jr8b-6gh6/)"
   ]
  },
  {
   "cell_type": "code",
   "execution_count": 2,
   "metadata": {},
   "outputs": [],
   "source": [
    "Flu_Raw = pd.read_csv('data/Flu_New.csv')\n",
    "# Flu_Raw = pd.read_csv('data/Flu_Data.csv')"
   ]
  },
  {
   "cell_type": "code",
   "execution_count": 3,
   "metadata": {},
   "outputs": [],
   "source": [
    "Flu_Raw = pd.read_csv('data/Flu_1216.csv')\n",
    "\n",
    "Flu_Raw['Week Ending Date'] =  pd.to_datetime(Flu_Raw['Week Ending Date'], format=\"%m/%d/%Y\")\n",
    "Flu_Sort = Flu_Raw.sort_values(by='Week Ending Date', ignore_index=True, ascending= False)\n",
    "szn_ls = ['2022-2023', '2021-2022', '2020-2021', '2019-2020', '2018-2019','2017-2018']\n",
    "Flu_Sort = Flu_Sort[(Flu_Sort.Region=='NYC')&(Flu_Sort.Season.isin(szn_ls))&(Flu_Sort.Disease=='INFLUENZA_A')]\n",
    "\n",
    "Flu_Disease = Flu_Sort[['Week Ending Date','CDC Week','Disease', 'Count']]\n",
    "Flu_Disease = Flu_Disease.reset_index(drop=True)\n",
    "Flu_Disease = Flu_Disease.groupby('Week Ending Date').sum()\n",
    "Flu_Disease[\"CDC Week\"] = Flu_Disease[\"CDC Week\"]/5\n",
    "\n",
    "week_1718 = [i for i in range(len(Flu_Disease.iloc[:33,0]))]\n",
    "count_1718 = Flu_Disease.iloc[:33,1]\n",
    "\n",
    "week_1819 = [i for i in range(len(Flu_Disease.iloc[33:66,0]))]\n",
    "count_1819 = Flu_Disease.iloc[33:66,1]\n",
    "\n",
    "week_1920 = [i for i in range(len(Flu_Disease.iloc[66:94,0]))]\n",
    "count_1920 = Flu_Disease.iloc[66:94:,1]\n",
    "\n",
    "week_2021 = [i for i in range(len(Flu_Disease.iloc[94:128,0]))]\n",
    "count_2021 = Flu_Disease.iloc[94:128,1]\n",
    "\n",
    "week_2122 = [i for i in range(len(Flu_Disease.iloc[128:166,0]))]\n",
    "count_2122 = Flu_Disease.iloc[128:166,1]\n",
    "\n",
    "week_2223 = [i for i in range(len(Flu_Disease.iloc[166:,0]))] \n",
    "count_2223 = Flu_Disease.iloc[166:,1]"
   ]
  },
  {
   "cell_type": "markdown",
   "metadata": {},
   "source": [
    "#### Curve_fit"
   ]
  },
  {
   "cell_type": "code",
   "execution_count": 4,
   "metadata": {},
   "outputs": [],
   "source": [
    "# The SIR model differential equations.\n",
    "def SIRdot(Y, t, N, a, b):\n",
    "    S, I, R = Y\n",
    "    dSdt = -a * S * I/N - 0.00002*0.5*S\n",
    "    dIdt = a * S * I/N  - b * I\n",
    "    dRdt = b * I + 0.00002*0.5*S\n",
    "    \n",
    "    return dSdt, dIdt, dRdt"
   ]
  },
  {
   "cell_type": "code",
   "execution_count": 5,
   "metadata": {},
   "outputs": [],
   "source": [
    "def SMSE(y, y_hat):\n",
    "    return np.sqrt(np.square(np.subtract(y,y_hat)).mean())"
   ]
  },
  {
   "cell_type": "markdown",
   "metadata": {},
   "source": [
    "#### Curve_fit for 2019-2020"
   ]
  },
  {
   "cell_type": "code",
   "execution_count": 6,
   "metadata": {},
   "outputs": [],
   "source": [
    "N = 8468000\n",
    "dt = 7\n",
    "T_1920 = (len(week_1819)-1)*7\n",
    "Nt_1920 = np.int(T_1920/dt)+1\n",
    "t_1920 = np.linspace(0, T_1920, Nt_1920)\n",
    "# whole_t = np.linspace(0,238,np.int(238/7)+1)\n",
    "a0 = .2\n",
    "b0 = .11"
   ]
  },
  {
   "cell_type": "code",
   "execution_count": 7,
   "metadata": {},
   "outputs": [],
   "source": [
    "def SIR_I(t,N,a,b):\n",
    "    Y0 = N-28-0, 28, 0\n",
    "\n",
    "    # Integrate the equations over the time grid, t.\n",
    "    ret = odeint(SIRdot, Y0, t, args=(N,a,b))\n",
    "    S,I,R = ret.T\n",
    "    return I    "
   ]
  },
  {
   "cell_type": "code",
   "execution_count": 8,
   "metadata": {},
   "outputs": [],
   "source": [
    "def SIR_All(t,N,a,b):\n",
    "    Y0 = N-28-0, 28, 0\n",
    "\n",
    "    # Integrate the equations over the time grid, t.\n",
    "    ret = odeint(SIRdot, Y0, t, args=(N,a,b))\n",
    "    S,I,R = ret.T\n",
    "    return S, I, R"
   ]
  },
  {
   "cell_type": "code",
   "execution_count": 9,
   "metadata": {},
   "outputs": [],
   "source": [
    "params_1920, pcov_1920 = curve_fit(SIR_I, t_1920,count_1819, p0 = [N-28, a0, b0], bounds = ([(N-28)/100, 0.0, .05], [3*(N-28), 5.0, .2]) )\n",
    "N_curve_19,a_19,b_19 = params_1920"
   ]
  },
  {
   "cell_type": "code",
   "execution_count": 10,
   "metadata": {},
   "outputs": [
    {
     "data": {
      "text/plain": [
       "(0.25037299290533516, 0.19990101668921637, 1.252479219503994)"
      ]
     },
     "execution_count": 10,
     "metadata": {},
     "output_type": "execute_result"
    }
   ],
   "source": [
    "Re0 = (a_19*(8468000-38))/(b_19*8468000)\n",
    "a_19,b_19, Re0"
   ]
  },
  {
   "cell_type": "code",
   "execution_count": 11,
   "metadata": {},
   "outputs": [],
   "source": [
    "# whole_t = np.linspace(0,238,np.int(238/7)+1)\n",
    "res_S, res_I, res_R = SIR_All(t_1920,N_curve_19,a_19,b_19)"
   ]
  },
  {
   "cell_type": "code",
   "execution_count": 12,
   "metadata": {},
   "outputs": [
    {
     "data": {
      "image/png": "[encoded data removed]",
      "text/plain": [
       "<Figure size 432x288 with 1 Axes>"
      ]
     },
     "metadata": {
      "needs_background": "light"
     },
     "output_type": "display_data"
    }
   ],
   "source": [
    "fig, ax = plt.subplots(1,1) \n",
    "x_ticks_labels = ['Oct','Nov','Dec','Jan','Feb','Mar','Apr','May']\n",
    "ax.set_xticks(np.arange(0,30,4))\n",
    "ax.set_xticklabels(x_ticks_labels)\n",
    "ax.plot(week_1819, count_1819, label = \"2018-19\")\n",
    "ax.plot([i for i in range(len(res_I))], res_I, label = 'curve_fit', linestyle='dashed', c='red')\n",
    "ax.set_xlabel('Month')\n",
    "ax.set_ylabel('Number of Influenza Cases')\n",
    "ax.set_title('Real Infectious Population vs Predicted Population')\n",
    "ax.grid()\n",
    "plt.legend()\n",
    "plt.show()\n",
    "fig.savefig('1819_1.svg', format='svg', dpi=1200)"
   ]
  },
  {
   "cell_type": "code",
   "execution_count": 13,
   "metadata": {},
   "outputs": [
    {
     "data": {
      "image/png": "[encoded data removed]",
      "text/plain": [
       "<Figure size 432x288 with 1 Axes>"
      ]
     },
     "metadata": {
      "needs_background": "light"
     },
     "output_type": "display_data"
    }
   ],
   "source": [
    "fig, ax = plt.subplots(1,1) \n",
    "x_ticks_labels = ['Oct','Nov','Dec','Jan','Feb','Mar','Apr','May']\n",
    "ax.set_xticks(np.arange(0,30,4))\n",
    "ax.set_xticklabels(x_ticks_labels)\n",
    "ax.plot([i for i in range(len(res_S))], res_S, label = 'S',  c='blue')\n",
    "ax.plot([i for i in range(len(res_I))], res_I, label = 'I',  c='red')\n",
    "ax.plot([i for i in range(len(res_R))], res_R, label = 'R',  c='green')\n",
    "ax.set_xlabel('Month')\n",
    "ax.set_ylabel('Population')\n",
    "ax.set_title('Estimated SIR Trend')\n",
    "ax.grid()\n",
    "plt.legend()\n",
    "plt.show()\n",
    "fig.savefig('1819_2.svg', format='svg', dpi=1200)"
   ]
  },
  {
   "cell_type": "code",
   "execution_count": 14,
   "metadata": {},
   "outputs": [
    {
     "data": {
      "text/plain": [
       "(209.38626370326023,)"
      ]
     },
     "execution_count": 14,
     "metadata": {},
     "output_type": "execute_result"
    }
   ],
   "source": [
    "Curve_SMSE_19 = SMSE(count_1819,res_I)\n",
    "Curve_SMSE_19,"
   ]
  },
  {
   "cell_type": "code",
   "execution_count": 15,
   "metadata": {},
   "outputs": [
    {
     "data": {
      "text/plain": [
       "0.8468"
      ]
     },
     "execution_count": 15,
     "metadata": {},
     "output_type": "execute_result"
    }
   ],
   "source": [
    "8468000/1e7"
   ]
  }
 ],
 "metadata": {
  "kernelspec": {
   "display_name": "Python 3.8.5 ('base')",
   "language": "python",
   "name": "python3"
  },
  "language_info": {
   "codemirror_mode": {
    "name": "ipython",
    "version": 3
   },
   "file_extension": ".py",
   "mimetype": "text/x-python",
   "name": "python",
   "nbconvert_exporter": "python",
   "pygments_lexer": "ipython3",
   "version": "3.8.5"
  },
  "orig_nbformat": 4,
  "vscode": {
   "interpreter": {
    "hash": "40d3a090f54c6569ab1632332b64b2c03c39dcf918b08424e98f38b5ae0af88f"
   }
  }
 },
 "nbformat": 4,
 "nbformat_minor": 2
}
